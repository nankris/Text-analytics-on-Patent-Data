{
 "cells": [
  {
   "cell_type": "code",
   "execution_count": 59,
   "metadata": {},
   "outputs": [],
   "source": [
    "import pandas as pd\n",
    "import numpy as np\n",
    "import nltk\n",
    "from nltk.corpus import stopwords\n",
    "from nltk.tokenize import word_tokenize"
   ]
  },
  {
   "cell_type": "code",
   "execution_count": null,
   "metadata": {},
   "outputs": [
    {
     "name": "stdout",
     "output_type": "stream",
     "text": [
      "showing info https://raw.githubusercontent.com/nltk/nltk_data/gh-pages/index.xml\n"
     ]
    }
   ],
   "source": [
    "#nltk.download()\n",
    "#a pop up will come and you have to download things fromt he downloader"
   ]
  },
  {
   "cell_type": "code",
   "execution_count": 62,
   "metadata": {
    "scrolled": true
   },
   "outputs": [
    {
     "data": {
      "text/plain": [
       "{'a',\n",
       " 'about',\n",
       " 'above',\n",
       " 'after',\n",
       " 'again',\n",
       " 'against',\n",
       " 'ain',\n",
       " 'all',\n",
       " 'am',\n",
       " 'an',\n",
       " 'and',\n",
       " 'any',\n",
       " 'are',\n",
       " 'aren',\n",
       " \"aren't\",\n",
       " 'as',\n",
       " 'at',\n",
       " 'be',\n",
       " 'because',\n",
       " 'been',\n",
       " 'before',\n",
       " 'being',\n",
       " 'below',\n",
       " 'between',\n",
       " 'both',\n",
       " 'but',\n",
       " 'by',\n",
       " 'can',\n",
       " 'couldn',\n",
       " \"couldn't\",\n",
       " 'd',\n",
       " 'did',\n",
       " 'didn',\n",
       " \"didn't\",\n",
       " 'do',\n",
       " 'does',\n",
       " 'doesn',\n",
       " \"doesn't\",\n",
       " 'doing',\n",
       " 'don',\n",
       " \"don't\",\n",
       " 'down',\n",
       " 'during',\n",
       " 'each',\n",
       " 'few',\n",
       " 'for',\n",
       " 'from',\n",
       " 'further',\n",
       " 'had',\n",
       " 'hadn',\n",
       " \"hadn't\",\n",
       " 'has',\n",
       " 'hasn',\n",
       " \"hasn't\",\n",
       " 'have',\n",
       " 'haven',\n",
       " \"haven't\",\n",
       " 'having',\n",
       " 'he',\n",
       " 'her',\n",
       " 'here',\n",
       " 'hers',\n",
       " 'herself',\n",
       " 'him',\n",
       " 'himself',\n",
       " 'his',\n",
       " 'how',\n",
       " 'i',\n",
       " 'if',\n",
       " 'in',\n",
       " 'into',\n",
       " 'is',\n",
       " 'isn',\n",
       " \"isn't\",\n",
       " 'it',\n",
       " \"it's\",\n",
       " 'its',\n",
       " 'itself',\n",
       " 'just',\n",
       " 'll',\n",
       " 'm',\n",
       " 'ma',\n",
       " 'me',\n",
       " 'mightn',\n",
       " \"mightn't\",\n",
       " 'more',\n",
       " 'most',\n",
       " 'mustn',\n",
       " \"mustn't\",\n",
       " 'my',\n",
       " 'myself',\n",
       " 'needn',\n",
       " \"needn't\",\n",
       " 'no',\n",
       " 'nor',\n",
       " 'not',\n",
       " 'now',\n",
       " 'o',\n",
       " 'of',\n",
       " 'off',\n",
       " 'on',\n",
       " 'once',\n",
       " 'only',\n",
       " 'or',\n",
       " 'other',\n",
       " 'our',\n",
       " 'ours',\n",
       " 'ourselves',\n",
       " 'out',\n",
       " 'over',\n",
       " 'own',\n",
       " 're',\n",
       " 's',\n",
       " 'same',\n",
       " 'shan',\n",
       " \"shan't\",\n",
       " 'she',\n",
       " \"she's\",\n",
       " 'should',\n",
       " \"should've\",\n",
       " 'shouldn',\n",
       " \"shouldn't\",\n",
       " 'so',\n",
       " 'some',\n",
       " 'such',\n",
       " 't',\n",
       " 'than',\n",
       " 'that',\n",
       " \"that'll\",\n",
       " 'the',\n",
       " 'their',\n",
       " 'theirs',\n",
       " 'them',\n",
       " 'themselves',\n",
       " 'then',\n",
       " 'there',\n",
       " 'these',\n",
       " 'they',\n",
       " 'this',\n",
       " 'those',\n",
       " 'through',\n",
       " 'to',\n",
       " 'too',\n",
       " 'under',\n",
       " 'until',\n",
       " 'up',\n",
       " 've',\n",
       " 'very',\n",
       " 'was',\n",
       " 'wasn',\n",
       " \"wasn't\",\n",
       " 'we',\n",
       " 'were',\n",
       " 'weren',\n",
       " \"weren't\",\n",
       " 'what',\n",
       " 'when',\n",
       " 'where',\n",
       " 'which',\n",
       " 'while',\n",
       " 'who',\n",
       " 'whom',\n",
       " 'why',\n",
       " 'will',\n",
       " 'with',\n",
       " 'won',\n",
       " \"won't\",\n",
       " 'wouldn',\n",
       " \"wouldn't\",\n",
       " 'y',\n",
       " 'you',\n",
       " \"you'd\",\n",
       " \"you'll\",\n",
       " \"you're\",\n",
       " \"you've\",\n",
       " 'your',\n",
       " 'yours',\n",
       " 'yourself',\n",
       " 'yourselves'}"
      ]
     },
     "execution_count": 62,
     "metadata": {},
     "output_type": "execute_result"
    }
   ],
   "source": [
    "stop_words=set(stopwords.words('english'))\n",
    "stop_words"
   ]
  },
  {
   "cell_type": "code",
   "execution_count": 96,
   "metadata": {},
   "outputs": [
    {
     "name": "stdout",
     "output_type": "stream",
     "text": [
      "Resultant list is : A navigation system suitable for use in an electric automobile especially hybrid electric automobiles easily and properly controls charging state of a battery in the electric automobile while making use of characteristic features of the navigation system The navigation system is mounted on the electric automobile A destination to which one wants to drive by the automobile is inputted as drive plan information Based on a distance planned to be driven by the automobile to the destination and a remaining capacity of the battery determined by remaining capacity detector it is determined whether the automobile can reach the destination with the remaining capacity of the battery\n"
     ]
    }
   ],
   "source": [
    "bad_chars = [';', ':', '!', \"*\",\",\",\".\"]\n",
    "    test_string1 = \"A navigation system suitable for use in an electric automobile, especially hybrid electric automobiles, easily and properly controls charging state of a battery in the electric automobile while making use of characteristic features of the navigation system. The navigation system is mounted on the electric automobile. A destination, to which one wants to drive by the automobile, is inputted as drive plan information. Based on a distance planned to be driven by the automobile to the destination and a remaining capacity of the battery determined by remaining capacity detector, it is determined whether the automobile can reach the destination with the remaining capacity of the battery.\"\n",
    "    # using replace() to  \n",
    "# remove bad_chars  \n",
    "for i in bad_chars : \n",
    "    test_string1 = test_string1.replace(i, '') \n",
    "  \n",
    "# printing resultant string  \n",
    "print (\"Resultant list is : \" + str(test_string1)) "
   ]
  },
  {
   "cell_type": "code",
   "execution_count": 97,
   "metadata": {},
   "outputs": [
    {
     "name": "stdout",
     "output_type": "stream",
     "text": [
      "['a', 'navigation', 'system', 'suitable', 'for', 'use', 'in', 'an', 'electric', 'automobile', 'especially', 'hybrid', 'electric', 'automobiles', 'easily', 'and', 'properly', 'controls', 'charging', 'state', 'of', 'a', 'battery', 'in', 'the', 'electric', 'automobile', 'while', 'making', 'use', 'of', 'characteristic', 'features', 'of', 'the', 'navigation', 'system', 'the', 'navigation', 'system', 'is', 'mounted', 'on', 'the', 'electric', 'automobile', 'a', 'destination', 'to', 'which', 'one', 'wants', 'to', 'drive', 'by', 'the', 'automobile', 'is', 'inputted', 'as', 'drive', 'plan', 'information', 'based', 'on', 'a', 'distance', 'planned', 'to', 'be', 'driven', 'by', 'the', 'automobile', 'to', 'the', 'destination', 'and', 'a', 'remaining', 'capacity', 'of', 'the', 'battery', 'determined', 'by', 'remaining', 'capacity', 'detector', 'it', 'is', 'determined', 'whether', 'the', 'automobile', 'can', 'reach', 'the', 'destination', 'with', 'the', 'remaining', 'capacity', 'of', 'the', 'battery']\n",
      "['navigation', 'system', 'suitable', 'use', 'electric', 'automobile', 'especially', 'hybrid', 'electric', 'automobiles', 'easily', 'properly', 'controls', 'charging', 'state', 'battery', 'electric', 'automobile', 'making', 'use', 'characteristic', 'features', 'navigation', 'system', 'navigation', 'system', 'mounted', 'electric', 'automobile', 'destination', 'one', 'wants', 'drive', 'automobile', 'inputted', 'drive', 'plan', 'information', 'based', 'distance', 'planned', 'driven', 'automobile', 'destination', 'remaining', 'capacity', 'battery', 'determined', 'remaining', 'capacity', 'detector', 'determined', 'whether', 'automobile', 'reach', 'destination', 'remaining', 'capacity', 'battery']\n"
     ]
    }
   ],
   "source": [
    "txt = test_string1\n",
    "txt=txt.lower() \n",
    "stop_words = set(stopwords.words('english')) \n",
    "  \n",
    "word_tokens = word_tokenize(txt) \n",
    "  \n",
    "filtered_sentence = [w for w in word_tokens if not w in stop_words] \n",
    "  \n",
    "p1 = [] \n",
    "  \n",
    "for w in word_tokens: \n",
    "    if w not in stop_words: \n",
    "        p1.append(w) \n",
    "  \n",
    "print(word_tokens) \n",
    "print(p1) "
   ]
  },
  {
   "cell_type": "code",
   "execution_count": 98,
   "metadata": {},
   "outputs": [
    {
     "name": "stdout",
     "output_type": "stream",
     "text": [
      "Resultant list is : In an electric power amount information output device for a vehicle a control section checks whether a remaining electric power amount of a battery of a motor-driven vehicle at a departure point is less than a total electric power amount required for the vehicle to travel to a destination point The control section drives an output section to output insufficiency information indicating that the remaining electric power amount of the battery is insufficient if the remaining electric power amount is less than the required total electric power amount\n"
     ]
    }
   ],
   "source": [
    "bad_chars = [';', ':', '!', \"*\",\",\",\".\"]\n",
    "test_string2 = \"In an electric power amount information output device for a vehicle, a control section checks whether a remaining electric power amount of a battery of a motor-driven vehicle at a departure point is less than a total electric power amount required for the vehicle to travel to a destination point. The control section drives an output section to output insufficiency information indicating that the remaining electric power amount of the battery is insufficient, if the remaining electric power amount is less than the required total electric power amount.\"\n",
    "# using replace() to  \n",
    "# remove bad_chars  \n",
    "for i in bad_chars : \n",
    "    test_string2 = test_string2.replace(i, '') \n",
    "  \n",
    "# printing resultant string  \n",
    "print (\"Resultant list is : \" + str(test_string2)) "
   ]
  },
  {
   "cell_type": "code",
   "execution_count": 99,
   "metadata": {},
   "outputs": [
    {
     "name": "stdout",
     "output_type": "stream",
     "text": [
      "['in', 'an', 'electric', 'power', 'amount', 'information', 'output', 'device', 'for', 'a', 'vehicle', 'a', 'control', 'section', 'checks', 'whether', 'a', 'remaining', 'electric', 'power', 'amount', 'of', 'a', 'battery', 'of', 'a', 'motor-driven', 'vehicle', 'at', 'a', 'departure', 'point', 'is', 'less', 'than', 'a', 'total', 'electric', 'power', 'amount', 'required', 'for', 'the', 'vehicle', 'to', 'travel', 'to', 'a', 'destination', 'point', 'the', 'control', 'section', 'drives', 'an', 'output', 'section', 'to', 'output', 'insufficiency', 'information', 'indicating', 'that', 'the', 'remaining', 'electric', 'power', 'amount', 'of', 'the', 'battery', 'is', 'insufficient', 'if', 'the', 'remaining', 'electric', 'power', 'amount', 'is', 'less', 'than', 'the', 'required', 'total', 'electric', 'power', 'amount']\n",
      "['electric', 'power', 'amount', 'information', 'output', 'device', 'vehicle', 'control', 'section', 'checks', 'whether', 'remaining', 'electric', 'power', 'amount', 'battery', 'motor-driven', 'vehicle', 'departure', 'point', 'less', 'total', 'electric', 'power', 'amount', 'required', 'vehicle', 'travel', 'destination', 'point', 'control', 'section', 'drives', 'output', 'section', 'output', 'insufficiency', 'information', 'indicating', 'remaining', 'electric', 'power', 'amount', 'battery', 'insufficient', 'remaining', 'electric', 'power', 'amount', 'less', 'required', 'total', 'electric', 'power', 'amount']\n"
     ]
    }
   ],
   "source": [
    "txt = test_string2\n",
    "txt=txt.lower()\n",
    "  \n",
    "stop_words = set(stopwords.words('english')) \n",
    "  \n",
    "word_tokens = word_tokenize(txt) \n",
    "  \n",
    "filtered_sentence = [w for w in word_tokens if not w in stop_words] \n",
    "  \n",
    "p2 = [] \n",
    "  \n",
    "for w in word_tokens: \n",
    "    if w not in stop_words: \n",
    "        p2.append(w) \n",
    "  \n",
    "print(word_tokens) \n",
    "print(p2) "
   ]
  },
  {
   "cell_type": "code",
   "execution_count": 100,
   "metadata": {},
   "outputs": [],
   "source": [
    "#b1=doc1.split(\" \")\n",
    "#b2=doc2.split(\" \")\n",
    "b1=p1\n",
    "b2=p2"
   ]
  },
  {
   "cell_type": "code",
   "execution_count": 101,
   "metadata": {},
   "outputs": [],
   "source": [
    "#b2"
   ]
  },
  {
   "cell_type": "code",
   "execution_count": 102,
   "metadata": {},
   "outputs": [],
   "source": [
    "word=set(b1).union(set(b2))\n",
    "#word"
   ]
  },
  {
   "cell_type": "code",
   "execution_count": 103,
   "metadata": {},
   "outputs": [],
   "source": [
    "wordDict1=dict.fromkeys(word,0)\n",
    "wordDict2=dict.fromkeys(word,0)"
   ]
  },
  {
   "cell_type": "code",
   "execution_count": 104,
   "metadata": {},
   "outputs": [],
   "source": [
    "for w in b1:\n",
    "    wordDict1[w]+=1\n",
    "for w in b2:\n",
    "    wordDict2[w]+=1"
   ]
  },
  {
   "cell_type": "code",
   "execution_count": 105,
   "metadata": {},
   "outputs": [
    {
     "data": {
      "text/plain": [
       "{'amount': 6,\n",
       " 'automobile': 0,\n",
       " 'automobiles': 0,\n",
       " 'based': 0,\n",
       " 'battery': 2,\n",
       " 'capacity': 0,\n",
       " 'characteristic': 0,\n",
       " 'charging': 0,\n",
       " 'checks': 1,\n",
       " 'control': 2,\n",
       " 'controls': 0,\n",
       " 'departure': 1,\n",
       " 'destination': 1,\n",
       " 'detector': 0,\n",
       " 'determined': 0,\n",
       " 'device': 1,\n",
       " 'distance': 0,\n",
       " 'drive': 0,\n",
       " 'driven': 0,\n",
       " 'drives': 1,\n",
       " 'easily': 0,\n",
       " 'electric': 6,\n",
       " 'especially': 0,\n",
       " 'features': 0,\n",
       " 'hybrid': 0,\n",
       " 'indicating': 1,\n",
       " 'information': 2,\n",
       " 'inputted': 0,\n",
       " 'insufficiency': 1,\n",
       " 'insufficient': 1,\n",
       " 'less': 2,\n",
       " 'making': 0,\n",
       " 'motor-driven': 1,\n",
       " 'mounted': 0,\n",
       " 'navigation': 0,\n",
       " 'one': 0,\n",
       " 'output': 3,\n",
       " 'plan': 0,\n",
       " 'planned': 0,\n",
       " 'point': 2,\n",
       " 'power': 6,\n",
       " 'properly': 0,\n",
       " 'reach': 0,\n",
       " 'remaining': 3,\n",
       " 'required': 2,\n",
       " 'section': 3,\n",
       " 'state': 0,\n",
       " 'suitable': 0,\n",
       " 'system': 0,\n",
       " 'total': 2,\n",
       " 'travel': 1,\n",
       " 'use': 0,\n",
       " 'vehicle': 3,\n",
       " 'wants': 0,\n",
       " 'whether': 1}"
      ]
     },
     "execution_count": 105,
     "metadata": {},
     "output_type": "execute_result"
    }
   ],
   "source": [
    "wordDict2"
   ]
  },
  {
   "cell_type": "code",
   "execution_count": 106,
   "metadata": {},
   "outputs": [
    {
     "data": {
      "text/html": [
       "<div>\n",
       "<style scoped>\n",
       "    .dataframe tbody tr th:only-of-type {\n",
       "        vertical-align: middle;\n",
       "    }\n",
       "\n",
       "    .dataframe tbody tr th {\n",
       "        vertical-align: top;\n",
       "    }\n",
       "\n",
       "    .dataframe thead th {\n",
       "        text-align: right;\n",
       "    }\n",
       "</style>\n",
       "<table border=\"1\" class=\"dataframe\">\n",
       "  <thead>\n",
       "    <tr style=\"text-align: right;\">\n",
       "      <th></th>\n",
       "      <th>especially</th>\n",
       "      <th>device</th>\n",
       "      <th>mounted</th>\n",
       "      <th>planned</th>\n",
       "      <th>insufficiency</th>\n",
       "      <th>suitable</th>\n",
       "      <th>plan</th>\n",
       "      <th>determined</th>\n",
       "      <th>insufficient</th>\n",
       "      <th>motor-driven</th>\n",
       "      <th>...</th>\n",
       "      <th>characteristic</th>\n",
       "      <th>departure</th>\n",
       "      <th>less</th>\n",
       "      <th>battery</th>\n",
       "      <th>features</th>\n",
       "      <th>drives</th>\n",
       "      <th>driven</th>\n",
       "      <th>output</th>\n",
       "      <th>total</th>\n",
       "      <th>remaining</th>\n",
       "    </tr>\n",
       "  </thead>\n",
       "  <tbody>\n",
       "    <tr>\n",
       "      <th>0</th>\n",
       "      <td>1</td>\n",
       "      <td>0</td>\n",
       "      <td>1</td>\n",
       "      <td>1</td>\n",
       "      <td>0</td>\n",
       "      <td>1</td>\n",
       "      <td>1</td>\n",
       "      <td>2</td>\n",
       "      <td>0</td>\n",
       "      <td>0</td>\n",
       "      <td>...</td>\n",
       "      <td>1</td>\n",
       "      <td>0</td>\n",
       "      <td>0</td>\n",
       "      <td>3</td>\n",
       "      <td>1</td>\n",
       "      <td>0</td>\n",
       "      <td>1</td>\n",
       "      <td>0</td>\n",
       "      <td>0</td>\n",
       "      <td>3</td>\n",
       "    </tr>\n",
       "    <tr>\n",
       "      <th>1</th>\n",
       "      <td>0</td>\n",
       "      <td>1</td>\n",
       "      <td>0</td>\n",
       "      <td>0</td>\n",
       "      <td>1</td>\n",
       "      <td>0</td>\n",
       "      <td>0</td>\n",
       "      <td>0</td>\n",
       "      <td>1</td>\n",
       "      <td>1</td>\n",
       "      <td>...</td>\n",
       "      <td>0</td>\n",
       "      <td>1</td>\n",
       "      <td>2</td>\n",
       "      <td>2</td>\n",
       "      <td>0</td>\n",
       "      <td>1</td>\n",
       "      <td>0</td>\n",
       "      <td>3</td>\n",
       "      <td>2</td>\n",
       "      <td>3</td>\n",
       "    </tr>\n",
       "  </tbody>\n",
       "</table>\n",
       "<p>2 rows × 55 columns</p>\n",
       "</div>"
      ],
      "text/plain": [
       "   especially  device  mounted  planned  insufficiency  suitable  plan  \\\n",
       "0           1       0        1        1              0         1     1   \n",
       "1           0       1        0        0              1         0     0   \n",
       "\n",
       "   determined  insufficient  motor-driven  ...  characteristic  departure  \\\n",
       "0           2             0             0  ...               1          0   \n",
       "1           0             1             1  ...               0          1   \n",
       "\n",
       "   less  battery  features  drives  driven  output  total  remaining  \n",
       "0     0        3         1       0       1       0      0          3  \n",
       "1     2        2         0       1       0       3      2          3  \n",
       "\n",
       "[2 rows x 55 columns]"
      ]
     },
     "execution_count": 106,
     "metadata": {},
     "output_type": "execute_result"
    }
   ],
   "source": [
    "import pandas as pd\n",
    "pd.DataFrame([wordDict1, wordDict2])"
   ]
  },
  {
   "cell_type": "code",
   "execution_count": 107,
   "metadata": {},
   "outputs": [],
   "source": [
    "def computeTF(wordDict, b):\n",
    "    tfDict={}\n",
    "    bCount=len(b)\n",
    "    for w, count in wordDict.items():\n",
    "        tfDict[w]=count/float(bCount)\n",
    "    return tfDict"
   ]
  },
  {
   "cell_type": "code",
   "execution_count": 108,
   "metadata": {},
   "outputs": [],
   "source": [
    "tfb1=computeTF(wordDict1,b1)\n",
    "tfb2=computeTF(wordDict2,b2)"
   ]
  },
  {
   "cell_type": "code",
   "execution_count": 109,
   "metadata": {},
   "outputs": [],
   "source": [
    "def computeIDF(docList):\n",
    "    import math\n",
    "    idfDict={}\n",
    "    N=len(docList)\n",
    "    idfDict=dict.fromkeys(docList[0].keys(),0)\n",
    "    for doc in docList:\n",
    "        for word,val in doc.items():\n",
    "            if val>0:\n",
    "                idfDict[word]+=1\n",
    "    for word, val in idfDict.items():\n",
    "        idfDict[word]=math.log(N/float(val))\n",
    "    return idfDict\n"
   ]
  },
  {
   "cell_type": "code",
   "execution_count": 110,
   "metadata": {},
   "outputs": [],
   "source": [
    "idfs=computeIDF([wordDict1,wordDict2])"
   ]
  },
  {
   "cell_type": "code",
   "execution_count": 111,
   "metadata": {},
   "outputs": [],
   "source": [
    "def computeTFIDF(tfBow, idfs):\n",
    "    tfidf={}\n",
    "    for word, val in tfBow.items():\n",
    "        tfidf[word]=val*idfs[word]\n",
    "    return tfidf"
   ]
  },
  {
   "cell_type": "code",
   "execution_count": 112,
   "metadata": {},
   "outputs": [],
   "source": [
    "tfidfBowA=computeTFIDF(tfb1,idfs)\n",
    "tfidfBowB=computeTFIDF(tfb2,idfs)"
   ]
  },
  {
   "cell_type": "code",
   "execution_count": 113,
   "metadata": {},
   "outputs": [
    {
     "data": {
      "text/html": [
       "<div>\n",
       "<style scoped>\n",
       "    .dataframe tbody tr th:only-of-type {\n",
       "        vertical-align: middle;\n",
       "    }\n",
       "\n",
       "    .dataframe tbody tr th {\n",
       "        vertical-align: top;\n",
       "    }\n",
       "\n",
       "    .dataframe thead th {\n",
       "        text-align: right;\n",
       "    }\n",
       "</style>\n",
       "<table border=\"1\" class=\"dataframe\">\n",
       "  <thead>\n",
       "    <tr style=\"text-align: right;\">\n",
       "      <th></th>\n",
       "      <th>especially</th>\n",
       "      <th>device</th>\n",
       "      <th>mounted</th>\n",
       "      <th>planned</th>\n",
       "      <th>insufficiency</th>\n",
       "      <th>suitable</th>\n",
       "      <th>plan</th>\n",
       "      <th>determined</th>\n",
       "      <th>insufficient</th>\n",
       "      <th>motor-driven</th>\n",
       "      <th>...</th>\n",
       "      <th>characteristic</th>\n",
       "      <th>departure</th>\n",
       "      <th>less</th>\n",
       "      <th>battery</th>\n",
       "      <th>features</th>\n",
       "      <th>drives</th>\n",
       "      <th>driven</th>\n",
       "      <th>output</th>\n",
       "      <th>total</th>\n",
       "      <th>remaining</th>\n",
       "    </tr>\n",
       "  </thead>\n",
       "  <tbody>\n",
       "    <tr>\n",
       "      <th>0</th>\n",
       "      <td>0.011748</td>\n",
       "      <td>0.000000</td>\n",
       "      <td>0.011748</td>\n",
       "      <td>0.011748</td>\n",
       "      <td>0.000000</td>\n",
       "      <td>0.011748</td>\n",
       "      <td>0.011748</td>\n",
       "      <td>0.023497</td>\n",
       "      <td>0.000000</td>\n",
       "      <td>0.000000</td>\n",
       "      <td>...</td>\n",
       "      <td>0.011748</td>\n",
       "      <td>0.000000</td>\n",
       "      <td>0.000000</td>\n",
       "      <td>0.0</td>\n",
       "      <td>0.011748</td>\n",
       "      <td>0.000000</td>\n",
       "      <td>0.011748</td>\n",
       "      <td>0.000000</td>\n",
       "      <td>0.000000</td>\n",
       "      <td>0.0</td>\n",
       "    </tr>\n",
       "    <tr>\n",
       "      <th>1</th>\n",
       "      <td>0.000000</td>\n",
       "      <td>0.012603</td>\n",
       "      <td>0.000000</td>\n",
       "      <td>0.000000</td>\n",
       "      <td>0.012603</td>\n",
       "      <td>0.000000</td>\n",
       "      <td>0.000000</td>\n",
       "      <td>0.000000</td>\n",
       "      <td>0.012603</td>\n",
       "      <td>0.012603</td>\n",
       "      <td>...</td>\n",
       "      <td>0.000000</td>\n",
       "      <td>0.012603</td>\n",
       "      <td>0.025205</td>\n",
       "      <td>0.0</td>\n",
       "      <td>0.000000</td>\n",
       "      <td>0.012603</td>\n",
       "      <td>0.000000</td>\n",
       "      <td>0.037808</td>\n",
       "      <td>0.025205</td>\n",
       "      <td>0.0</td>\n",
       "    </tr>\n",
       "  </tbody>\n",
       "</table>\n",
       "<p>2 rows × 55 columns</p>\n",
       "</div>"
      ],
      "text/plain": [
       "   especially    device   mounted   planned  insufficiency  suitable  \\\n",
       "0    0.011748  0.000000  0.011748  0.011748       0.000000  0.011748   \n",
       "1    0.000000  0.012603  0.000000  0.000000       0.012603  0.000000   \n",
       "\n",
       "       plan  determined  insufficient  motor-driven  ...  characteristic  \\\n",
       "0  0.011748    0.023497      0.000000      0.000000  ...        0.011748   \n",
       "1  0.000000    0.000000      0.012603      0.012603  ...        0.000000   \n",
       "\n",
       "   departure      less  battery  features    drives    driven    output  \\\n",
       "0   0.000000  0.000000      0.0  0.011748  0.000000  0.011748  0.000000   \n",
       "1   0.012603  0.025205      0.0  0.000000  0.012603  0.000000  0.037808   \n",
       "\n",
       "      total  remaining  \n",
       "0  0.000000        0.0  \n",
       "1  0.025205        0.0  \n",
       "\n",
       "[2 rows x 55 columns]"
      ]
     },
     "execution_count": 113,
     "metadata": {},
     "output_type": "execute_result"
    }
   ],
   "source": [
    "import pandas as pd\n",
    "pd.DataFrame([tfidfBowA,tfidfBowB])"
   ]
  },
  {
   "cell_type": "code",
   "execution_count": null,
   "metadata": {},
   "outputs": [],
   "source": [
    "#Project 2"
   ]
  },
  {
   "cell_type": "code",
   "execution_count": 3,
   "metadata": {},
   "outputs": [],
   "source": [
    "import nltk"
   ]
  },
  {
   "cell_type": "code",
   "execution_count": 1,
   "metadata": {},
   "outputs": [
    {
     "name": "stdout",
     "output_type": "stream",
     "text": [
      "a navigation system suitable for use in an electric automobile, especially hybrid electric automobiles, easily and properly controls charging state of a battery in the electric automobile while making use of characteristic features of the navigation system. the navigation system is mounted on the electric automobile. a destination, to which one wants to drive by the automobile, is inputted as drive plan information. based on a distance planned to be driven by the automobile to the destination and a remaining capacity of the battery determined by remaining capacity detector, it is determined whether the automobile can reach the destination with the remaining capacity of the battery.\n"
     ]
    }
   ],
   "source": [
    "text = \"A navigation system suitable for use in an electric automobile, especially hybrid electric automobiles, easily and properly controls charging state of a battery in the electric automobile while making use of characteristic features of the navigation system. The navigation system is mounted on the electric automobile. A destination, to which one wants to drive by the automobile, is inputted as drive plan information. Based on a distance planned to be driven by the automobile to the destination and a remaining capacity of the battery determined by remaining capacity detector, it is determined whether the automobile can reach the destination with the remaining capacity of the battery.\"\n",
    "lower_text = text.lower()\n",
    "print (lower_text)"
   ]
  },
  {
   "cell_type": "code",
   "execution_count": 4,
   "metadata": {},
   "outputs": [
    {
     "name": "stdout",
     "output_type": "stream",
     "text": [
      "['This', 'is', 'a', 'Demo', 'Text', 'for', 'NLP', 'using', 'NLTK', '.', 'Full', 'form', 'of', 'NLTK', 'is', 'Natural', 'Language', 'Toolkit']\n"
     ]
    }
   ],
   "source": [
    "text = \"This is a Demo Text for NLP using NLTK. Full form of NLTK is Natural Language Toolkit\"\n",
    "word_tokens = nltk.word_tokenize(text)\n",
    "print (word_tokens)"
   ]
  },
  {
   "cell_type": "code",
   "execution_count": 6,
   "metadata": {},
   "outputs": [],
   "source": [
    "from nltk.corpus import stopwords\n",
    "stopword = stopwords.words('english')"
   ]
  },
  {
   "cell_type": "code",
   "execution_count": 8,
   "metadata": {},
   "outputs": [
    {
     "name": "stdout",
     "output_type": "stream",
     "text": [
      "['navigation', 'system', 'suitable', 'use', 'electric', 'automobile', ',', 'especially', 'hybrid', 'electric', 'automobiles', ',', 'easily', 'properly', 'controls', 'charging', 'state', 'battery', 'electric', 'automobile', 'making', 'use', 'characteristic', 'features', 'navigation', 'system', '.', 'navigation', 'system', 'mounted', 'electric', 'automobile', '.', 'destination', ',', 'one', 'wants', 'drive', 'automobile', ',', 'inputted', 'drive', 'plan', 'information', '.', 'based', 'distance', 'planned', 'driven', 'automobile', 'destination', 'remaining', 'capacity', 'battery', 'determined', 'remaining', 'capacity', 'detector', ',', 'determined', 'whether', 'automobile', 'reach', 'destination', 'remaining', 'capacity', 'battery', '.']\n"
     ]
    }
   ],
   "source": [
    "text = \"A navigation system suitable for use in an electric automobile, especially hybrid electric automobiles, easily and properly controls charging state of a battery in the electric automobile while making use of characteristic features of the navigation system. The navigation system is mounted on the electric automobile. A destination, to which one wants to drive by the automobile, is inputted as drive plan information. Based on a distance planned to be driven by the automobile to the destination and a remaining capacity of the battery determined by remaining capacity detector, it is determined whether the automobile can reach the destination with the remaining capacity of the battery.\"\n",
    "text=text.lower()\n",
    "word_tokens = nltk.word_tokenize(text)\n",
    "removing_stopwords = [word for word in word_tokens if word not in stopword]\n",
    "print (removing_stopwords)"
   ]
  },
  {
   "cell_type": "code",
   "execution_count": 13,
   "metadata": {},
   "outputs": [
    {
     "name": "stdout",
     "output_type": "stream",
     "text": [
      "['navigation', 'system', 'suitable', 'use', 'electric', 'automobile', ',', 'especially', 'hybrid', 'electric', 'automobile', ',', 'easily', 'properly', 'control', 'charging', 'state', 'battery', 'electric', 'automobile', 'making', 'use', 'characteristic', 'feature', 'navigation', 'system', '.', 'navigation', 'system', 'mounted', 'electric', 'automobile', '.', 'destination', ',', 'one', 'want', 'drive', 'automobile', ',', 'inputted', 'drive', 'plan', 'information', '.', 'based', 'distance', 'planned', 'driven', 'automobile', 'destination', 'remaining', 'capacity', 'battery', 'determined', 'remaining', 'capacity', 'detector', ',', 'determined', 'whether', 'automobile', 'reach', 'destination', 'remaining', 'capacity', 'battery', '.']\n"
     ]
    }
   ],
   "source": [
    "import nltk\n",
    "from nltk.corpus import stopwords\n",
    "from nltk.stem import WordNetLemmatizer\n",
    "#is based on The Porter Stemming Algorithm\n",
    "stopword = stopwords.words('english')\n",
    "wordnet_lemmatizer = WordNetLemmatizer()\n",
    "text = \"A navigation system suitable for use in an electric automobile, especially hybrid electric automobiles, easily and properly controls charging state of a battery in the electric automobile while making use of characteristic features of the navigation system. The navigation system is mounted on the electric automobile. A destination, to which one wants to drive by the automobile, is inputted as drive plan information. Based on a distance planned to be driven by the automobile to the destination and a remaining capacity of the battery determined by remaining capacity detector, it is determined whether the automobile can reach the destination with the remaining capacity of the battery.\"\n",
    "text=text.lower()\n",
    "word_tokens = nltk.word_tokenize(text)\n",
    "lemmatized_word = [wordnet_lemmatizer.lemmatize(word) for word in word_tokens]\n",
    "removing_stopwords = [word for word in lemmatized_word if word not in stopword]\n",
    "\n",
    "#print (lemmatized_word)\n",
    "print(removing_stopwords)"
   ]
  },
  {
   "cell_type": "code",
   "execution_count": 19,
   "metadata": {},
   "outputs": [
    {
     "name": "stdout",
     "output_type": "stream",
     "text": [
      "['a', 'navigation', 'system', 'suitable', 'for', 'use', 'in', 'an', 'electric', 'automobile', 'especially', 'hybrid', 'electric', 'automobiles', 'easily', 'and', 'properly', 'controls', 'charging', 'state', 'of', 'a', 'battery', 'in', 'the', 'electric', 'automobile', 'while', 'making', 'use', 'of', 'characteristic', 'features', 'of', 'the', 'navigation', 'system', 'the', 'navigation', 'system', 'is', 'mounted', 'on', 'the', 'electric', 'automobile', 'a', 'destination', 'to', 'which', 'one', 'wants', 'to', 'drive', 'by', 'the', 'automobile', 'is', 'inputted', 'as', 'drive', 'plan', 'information', 'based', 'on', 'a', 'distance', 'planned', 'to', 'be', 'driven', 'by', 'the', 'automobile', 'to', 'the', 'destination', 'and', 'a', 'remaining', 'capacity', 'of', 'the', 'battery', 'determined', 'by', 'remaining', 'capacity', 'detector', 'it', 'is', 'determined', 'whether', 'the', 'automobile', 'can', 'reach', 'the', 'destination', 'with', 'the', 'remaining', 'capacity', 'of', 'the', 'battery']\n"
     ]
    }
   ],
   "source": [
    "bad_chars = [';', ':', '!', \"*\",\",\",\".\"]\n",
    "text=\"A navigation system suitable for use in an electric automobile, especially hybrid electric automobiles, easily and properly controls charging state of a battery in the electric automobile while making use of characteristic features of the navigation system. The navigation system is mounted on the electric automobile. A destination, to which one wants to drive by the automobile, is inputted as drive plan information. Based on a distance planned to be driven by the automobile to the destination and a remaining capacity of the battery determined by remaining capacity detector, it is determined whether the automobile can reach the destination with the remaining capacity of the battery.\"\n",
    "text=text.lower()\n",
    "word_tokens = nltk.word_tokenize(text)\n",
    "removing_specialchars=[word for word in word_tokens if word not in bad_chars]\n",
    "print(removing_specialchars)"
   ]
  },
  {
   "cell_type": "code",
   "execution_count": 36,
   "metadata": {},
   "outputs": [
    {
     "name": "stdout",
     "output_type": "stream",
     "text": [
      "[('automobile', 6), ('electric', 4), ('navigation', 3), ('system', 3), ('battery', 3), ('destination', 3), ('remaining', 3), ('capacity', 3), ('use', 2), ('drive', 2)]\n"
     ]
    }
   ],
   "source": [
    "#for abstract of US5815824A\n",
    "#word frequency\n",
    "import nltk\n",
    "from nltk import FreqDist\n",
    "text = \"A navigation system suitable for use in an electric automobile, especially hybrid electric automobiles, easily and properly controls charging state of a battery in the electric automobile while making use of characteristic features of the navigation system. The navigation system is mounted on the electric automobile. A destination, to which one wants to drive by the automobile, is inputted as drive plan information. Based on a distance planned to be driven by the automobile to the destination and a remaining capacity of the battery determined by remaining capacity detector, it is determined whether the automobile can reach the destination with the remaining capacity of the battery.\"\n",
    "text=text.lower()\n",
    "word = nltk.word_tokenize(text.lower())\n",
    "removing_stopwords = [word for word in word if word not in stopword]\n",
    "\n",
    "\n",
    "bad_chars = [';', ':', '!', \"*\",\",\",\".\"]\n",
    "text=removing_stopwords\n",
    "#word_tokens = nltk.word_tokenize(text)\n",
    "removing_specialchars=[word for word in text if word not in bad_chars]\n",
    "#print(removing_specialchars)\n",
    "\n",
    "freq = FreqDist(removing_specialchars)\n",
    "print (freq.most_common(10))"
   ]
  },
  {
   "cell_type": "code",
   "execution_count": 38,
   "metadata": {},
   "outputs": [
    {
     "name": "stdout",
     "output_type": "stream",
     "text": [
      "[('means', 32), ('information', 25), ('destination', 24), ('battery', 23), ('automobile', 21), ('drive', 20), ('remaining', 15), ('capacity', 15), ('present', 12), ('navigation', 11), ('plan', 11), ('reach', 10), ('electric', 9), ('system', 9), ('determination', 9)]\n"
     ]
    }
   ],
   "source": [
    "#for Summary of US5815824A\n",
    "#word frequency\n",
    "import nltk\n",
    "from nltk import FreqDist\n",
    "text = \"With the foregoing in view, it is an object of the present invention to make it possible to easily and properly control a battery of an electric automobile while making use of characteristic features of a navigation system.A specific object of the present invention is to enable a driver to ascertain whether a remaining capacity of a battery is sufficient to reach a destination. Another specific object of the present invention is to allow the driver to determine whether the remaining capacity of the battery is sufficient to reach a battery-charging station on the way to the destination if it has been planned to charge on the way to the destination. A further specific object of the present invention is to make it possible to indicate the location of the battery-charging station to the driver. In one aspect of the present invention, there is thus provided a navigation system for an electric automobile having: a battery, an electric drive motor for driving wheels upon being fed with electric power from the battery, motor control means for controlling operation of the electric drive motor while adjusting electric power to be fed to the electric drive motor in accordance with artificial output demand operation, and remaining capacity detection means for detecting a remaining capacity of the battery, and said navigation system being provided with: road map information storage means for storing road map information, drive plan information input means for artificially performing inputting operation with respect to information on a drive plan of the automobile, present position detecting means for detecting a present position of the automobile, and indication control means for controlling screen display information and/or audio indication information of map information and route information on the basis of pieces of information from the road map information storage means, the drive plan information input means and the present position detecting means, wherein the drive plan information comprises a destination of the automobile, and the navigation system further comprises: reachability determination means for determining, based on a distance planned to be driven by the automobile to the destination and the remaining capacity of the battery determined by the remaining capacity detection means, whether the automobile can reach the destination with the remaining capacity of the battery. The navigation system makes it possible to smoothly drive to the destination without causing premature flattening of the battery while adequately ascertaining the remaining capacity of the battery. The drive plan information may comprise, in addition to the destination, a planned charging point at which charging of the battery is planned along a route to the destination, and the reachability determination means may comprise means for determining, based on a distance planned to be driven by the automobile to the planned charging point and the remaining capacity of the battery determined by the remaining capacity detection means, whether the automobile can reach the planned charging point with the remaining capacity of the battery. This makes it possible to properly advise the driver of the need for charging so that the driver can pleasantly drive the vehicle while ascertaining the remaining capacity of the battery. The navigation system may further comprise use-condition-limited reachability determination means for setting, when the automobile is determined to be unable to reach the destination by the reachability determination means, a use condition for the electric drive motor or an accessory so as to permit use of the battery while economizing on electric power and then determining whether the automobile can reach the destination under the so-set motor use condition. This makes it possible to smoothly drive to the destination without causing the battery to go flat, for example, even when the destination is faraway. The navigation system may further comprise indication means for indicating unreachability of the automobile when the automobile is determined to be unable to reach the destination by the reachability determination means. This makes it possible to adequately charge the battery without causing premature flattening of the battery. The navigation system may further comprise indication means for indicating the need for a change in and reset of the drive plan information when the automobile is determined to be unable to reach the destination by the reachability determination means. This makes it possible to smoothly drive to the destination without causing premature flattening of the battery. The drive plan information may comprise, in addition to the destination, a plurality of charging points available along the route to the destination, and the navigation system may further comprise display means for displaying one or more of the available charging points, to which the automobile is found to be reachable by the reachability determination means, when the automobile is determined to be unable to reach the destination by the reachability determination means. This makes it possible to surely perform charging of the battery with extreme ease and also to achieve a smooth drive to the destination while ensuring prevention of flattening of the battery without the need for a change to the route to the destination. drive plan information input means for artificially performing inputting operation with respect to information on a drive plan of an automobile, present position detecting means for detecting a present position of the automobile, and indication control means for controlling screen display information and/or audio indication information of map information and route information on the basis of pieces of information from the road map information storage means, the drive plan information input means and the present position detecting means, which method comprises: inputting, as a first step, a destination of the automobile via the drive plan information input means, determining, as a second step, based on a distance planned to be driven by the automobile to the destination and the remaining capacity of the battery determined by the remaining capacity detection means, whether the automobile can reach the destination with the remaining capacity of the battery, and performing, as a third step, an indication via the indication control means on the basis of results of a determination in the second step. The navigation method may be practiced like the various preferred embodiments described above with respect to the navigation system according to the one aspect of the present invention, and can bring about advantages similar to those of the corresponding preferred embodiments.\"\n",
    "\n",
    "text=text.lower()\n",
    "word = nltk.word_tokenize(text.lower())\n",
    "removing_stopwords = [word for word in word if word not in stopword]\n",
    "\n",
    "\n",
    "bad_chars = [';', ':', '!', \"*\",\",\",\".\"]\n",
    "text=removing_stopwords\n",
    "#word_tokens = nltk.word_tokenize(text)\n",
    "removing_specialchars=[word for word in text if word not in bad_chars]\n",
    "#print(removing_specialchars)\n",
    "\n",
    "freq = FreqDist(removing_specialchars)\n",
    "print (freq.most_common(15))"
   ]
  },
  {
   "cell_type": "code",
   "execution_count": 34,
   "metadata": {},
   "outputs": [
    {
     "name": "stdout",
     "output_type": "stream",
     "text": [
      "[('A', 'DT'), ('navigation', 'NN'), ('system', 'NN'), ('suitable', 'JJ'), ('for', 'IN'), ('use', 'NN'), ('in', 'IN'), ('an', 'DT'), ('electric', 'JJ'), ('automobile', 'NN'), (',', ','), ('especially', 'RB'), ('hybrid', 'JJ'), ('electric', 'JJ'), ('automobiles', 'NNS'), (',', ','), ('easily', 'RB'), ('and', 'CC'), ('properly', 'RB'), ('controls', 'NNS'), ('charging', 'VBG'), ('state', 'NN'), ('of', 'IN'), ('a', 'DT'), ('battery', 'NN'), ('in', 'IN'), ('the', 'DT'), ('electric', 'JJ'), ('automobile', 'NN'), ('while', 'IN'), ('making', 'VBG'), ('use', 'NN'), ('of', 'IN'), ('characteristic', 'JJ'), ('features', 'NNS'), ('of', 'IN'), ('the', 'DT'), ('navigation', 'NN'), ('system', 'NN'), ('.', '.'), ('The', 'DT'), ('navigation', 'NN'), ('system', 'NN'), ('is', 'VBZ'), ('mounted', 'VBN'), ('on', 'IN'), ('the', 'DT'), ('electric', 'JJ'), ('automobile', 'NN'), ('.', '.'), ('A', 'DT'), ('destination', 'NN'), (',', ','), ('to', 'TO'), ('which', 'WDT'), ('one', 'CD'), ('wants', 'VBZ'), ('to', 'TO'), ('drive', 'VB'), ('by', 'IN'), ('the', 'DT'), ('automobile', 'NN'), (',', ','), ('is', 'VBZ'), ('inputted', 'VBN'), ('as', 'IN'), ('drive', 'NN'), ('plan', 'NN'), ('information', 'NN'), ('.', '.'), ('Based', 'VBN'), ('on', 'IN'), ('a', 'DT'), ('distance', 'NN'), ('planned', 'VBN'), ('to', 'TO'), ('be', 'VB'), ('driven', 'VBN'), ('by', 'IN'), ('the', 'DT'), ('automobile', 'NN'), ('to', 'TO'), ('the', 'DT'), ('destination', 'NN'), ('and', 'CC'), ('a', 'DT'), ('remaining', 'VBG'), ('capacity', 'NN'), ('of', 'IN'), ('the', 'DT'), ('battery', 'NN'), ('determined', 'VBN'), ('by', 'IN'), ('remaining', 'VBG'), ('capacity', 'NN'), ('detector', 'NN'), (',', ','), ('it', 'PRP'), ('is', 'VBZ'), ('determined', 'JJ'), ('whether', 'IN'), ('the', 'DT'), ('automobile', 'NN'), ('can', 'MD'), ('reach', 'VB'), ('the', 'DT'), ('destination', 'NN'), ('with', 'IN'), ('the', 'DT'), ('remaining', 'VBG'), ('capacity', 'NN'), ('of', 'IN'), ('the', 'DT'), ('battery', 'NN'), ('.', '.')]\n"
     ]
    }
   ],
   "source": [
    "import nltk\n",
    "text = \"A navigation system suitable for use in an electric automobile, especially hybrid electric automobiles, easily and properly controls charging state of a battery in the electric automobile while making use of characteristic features of the navigation system. The navigation system is mounted on the electric automobile. A destination, to which one wants to drive by the automobile, is inputted as drive plan information. Based on a distance planned to be driven by the automobile to the destination and a remaining capacity of the battery determined by remaining capacity detector, it is determined whether the automobile can reach the destination with the remaining capacity of the battery.\"\n",
    "word = nltk.word_tokenize(text)\n",
    "pos_tag = nltk.pos_tag(word)\n",
    "print (pos_tag)"
   ]
  },
  {
   "cell_type": "code",
   "execution_count": 35,
   "metadata": {},
   "outputs": [
    {
     "name": "stdout",
     "output_type": "stream",
     "text": [
      "['BarrackObama']\n"
     ]
    }
   ],
   "source": [
    "import nltk\n",
    "text = \"who is Barrack Obama\"\n",
    "word = nltk.word_tokenize(text)\n",
    "pos_tag = nltk.pos_tag(word)\n",
    "chunk = nltk.ne_chunk(pos_tag)\n",
    "NE = [ \"\".join(w for w, t in ele) for ele in chunk if isinstance(ele, nltk.Tree)]\n",
    "print (NE)"
   ]
  },
  {
   "cell_type": "code",
   "execution_count": null,
   "metadata": {},
   "outputs": [],
   "source": []
  },
  {
   "cell_type": "code",
   "execution_count": null,
   "metadata": {},
   "outputs": [],
   "source": []
  },
  {
   "cell_type": "code",
   "execution_count": null,
   "metadata": {},
   "outputs": [],
   "source": []
  },
  {
   "cell_type": "code",
   "execution_count": null,
   "metadata": {},
   "outputs": [],
   "source": []
  }
 ],
 "metadata": {
  "kernelspec": {
   "display_name": "Python 3",
   "language": "python",
   "name": "python3"
  },
  "language_info": {
   "codemirror_mode": {
    "name": "ipython",
    "version": 3
   },
   "file_extension": ".py",
   "mimetype": "text/x-python",
   "name": "python",
   "nbconvert_exporter": "python",
   "pygments_lexer": "ipython3",
   "version": "3.6.4"
  }
 },
 "nbformat": 4,
 "nbformat_minor": 2
}
